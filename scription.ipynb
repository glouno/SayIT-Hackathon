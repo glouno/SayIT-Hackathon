{
 "cells": [
  {
   "cell_type": "code",
   "execution_count": 17,
   "metadata": {},
   "outputs": [],
   "source": [
    "from moviepy.editor import VideoFileClip\n",
    "import os\n",
    "import datetime\n",
    "from docx import Document\n",
    "import openai\n",
    "import os\n",
    "import tempfile\n",
    "import smtplib\n",
    "from email.mime.multipart import MIMEMultipart\n",
    "from email.mime.base import MIMEBase\n",
    "from email import encoders\n",
    "from email.mime.text import MIMEText\n",
    "#Placez la clé API openai ici\n",
    "openai.api_key = ''"
   ]
  },
  {
   "cell_type": "code",
   "execution_count": 10,
   "metadata": {},
   "outputs": [],
   "source": [
    "def transcribe_video(video_path):\n",
    "    video = VideoFileClip(video_path)\n",
    "    audio = video.audio\n",
    "    temp_audio_fd, temp_audio_path = tempfile.mkstemp(suffix=\".wav\")\n",
    "    os.close(temp_audio_fd)\n",
    "    try:\n",
    "        audio.write_audiofile(temp_audio_path, codec='pcm_s16le')\n",
    "        with open(temp_audio_path, \"rb\") as audio_file:\n",
    "            response = openai.audio.transcriptions.create(\n",
    "                file=audio_file,\n",
    "                model=\"whisper-1\",\n",
    "            )\n",
    "        text = response.text\n",
    "    finally:\n",
    "        os.remove(temp_audio_path)\n",
    "    return \"S'il vous plaît, aidez-moi à résumer le paragraphe suivant: \" + text"
   ]
  },
  {
   "cell_type": "code",
   "execution_count": 11,
   "metadata": {},
   "outputs": [],
   "source": [
    "def summarize_text_with_chatgpt(text):\n",
    "    response = openai.completions.create(\n",
    "        model=\"gpt-3.5-turbo-instruct\",\n",
    "        prompt=text,\n",
    "        temperature=0.6,\n",
    "        max_tokens=2000\n",
    "    )\n",
    "    summary = response.choices[0].text.strip()\n",
    "    return summary"
   ]
  },
  {
   "cell_type": "code",
   "execution_count": 12,
   "metadata": {},
   "outputs": [],
   "source": [
    "def save_summary_as_word(summary, filename):\n",
    "    doc = Document()\n",
    "    doc.add_paragraph(summary)\n",
    "    doc.save(filename)"
   ]
  },
  {
   "cell_type": "code",
   "execution_count": 26,
   "metadata": {},
   "outputs": [],
   "source": [
    "def email(doc, address_email):\n",
    "    \n",
    "    mail_server = \"smtp.gmail.com\"\n",
    "    #Veuillez remplacer le nom d'utilisateur par votre propre adresse e-mail\n",
    "    mail_username = \"yezhanyz@gmail.com\"\n",
    "    #Veuillez remplacer le mot de passe par votre propre mot de passe\n",
    "    mail_password = \"\"\n",
    "\n",
    "    \n",
    "    msg = MIMEMultipart()\n",
    "    msg['From'] = mail_username\n",
    "    msg['To'] = address_email\n",
    "    msg['Subject'] = \"Résumé de votre réunion - À consulter\"\n",
    "\n",
    "    body =  \"\"\"J'espère que cette journée vous trouve en pleine forme. Je vous envoie le résumé de votre réunion pour votre référence et vos actions ultérieures. Veuillez trouver ci-joint le document.\n",
    "\n",
    "Je vous souhaite une journée agréable et productive.\n",
    "\n",
    "Cordialement,\n",
    "\n",
    "L'équipe du projet SayIt\"\"\"\n",
    "    msg.attach(MIMEText(body, 'plain'))\n",
    "\n",
    "\n",
    "    with open(doc, 'rb') as file:\n",
    "        part = MIMEBase('application', 'octet-stream')\n",
    "        part.set_payload(file.read())\n",
    "        encoders.encode_base64(part)\n",
    "        part.add_header('Content-Disposition', f'attachment; filename= {os.path.basename(doc)}')\n",
    "        msg.attach(part)\n",
    "\n",
    "    server = smtplib.SMTP(mail_server, 587)\n",
    "    server.starttls()\n",
    "    server.login(mail_username, mail_password)\n",
    "    server.send_message(msg)\n",
    "    server.quit()"
   ]
  },
  {
   "cell_type": "code",
   "execution_count": 20,
   "metadata": {},
   "outputs": [],
   "source": [
    "def main(video_path, address_email):\n",
    "    current_dir = os.getcwd()\n",
    "    file_type='docx'\n",
    "    if video_path.endswith('.mp4'):\n",
    "        text = transcribe_video(video_path)\n",
    "        summary = summarize_text_with_chatgpt(text) \n",
    "        text_dir = os.path.join(current_dir, file_type)\n",
    "        if not os.path.exists(text_dir):\n",
    "            os.makedirs(text_dir)\n",
    "        timestamp = datetime.datetime.now().strftime('%Y%m%d%H%M%S')\n",
    "        text_filename = os.path.basename(video_path).replace('.mp4', f'_{timestamp}.{file_type}')\n",
    "        save_summary_as_word(summary, os.path.join(text_dir, text_filename))\n",
    "        email(os.path.join(text_dir, text_filename), address_email)\n",
    "    else:\n",
    "        print(\"The provided file is not an mp4 file.\")"
   ]
  },
  {
   "cell_type": "code",
   "execution_count": 21,
   "metadata": {},
   "outputs": [
    {
     "name": "stdout",
     "output_type": "stream",
     "text": [
      "MoviePy - Writing audio in C:\\Users\\14728\\AppData\\Local\\Temp\\tmpkm5b93dh.wav\n"
     ]
    },
    {
     "name": "stderr",
     "output_type": "stream",
     "text": [
      "                                                                      \r"
     ]
    },
    {
     "name": "stdout",
     "output_type": "stream",
     "text": [
      "MoviePy - Done.\n"
     ]
    }
   ],
   "source": [
    "#Il est préférable d'utiliser votre propre adresse e-mail ici. Bien sûr, cela ne me dérange pas si vous utilisez la mienne. XD\n",
    "main('./video/video.mp4', 'zhan.ye@edu.ece.fr')"
   ]
  }
 ],
 "metadata": {
  "kernelspec": {
   "display_name": "base",
   "language": "python",
   "name": "python3"
  },
  "language_info": {
   "codemirror_mode": {
    "name": "ipython",
    "version": 3
   },
   "file_extension": ".py",
   "mimetype": "text/x-python",
   "name": "python",
   "nbconvert_exporter": "python",
   "pygments_lexer": "ipython3",
   "version": "3.12.0"
  }
 },
 "nbformat": 4,
 "nbformat_minor": 2
}
